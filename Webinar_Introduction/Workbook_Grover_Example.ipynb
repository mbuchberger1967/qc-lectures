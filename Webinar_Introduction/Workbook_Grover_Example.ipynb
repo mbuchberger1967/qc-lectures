{
 "cells": [
  {
   "cell_type": "markdown",
   "metadata": {},
   "source": [
    "## 3.2 Grover's algorithm - Working Example"
   ]
  },
  {
   "cell_type": "markdown",
   "metadata": {},
   "source": [
    "Given a system consisting of N=8 states (3 qubits), and we are searching for a state $x_0$ represented by the bit string 011. The system has the state $|x\\rangle=\\alpha_0|000\\rangle+\\alpha_1|001\\rangle+\\alpha_2|010\\rangle+\\alpha_3|011\\rangle+\\alpha_4|100\\rangle+\\alpha_5|101\\rangle+\\alpha_6|110\\rangle+\\alpha_7|111\\rangle$ with $\\alpha_i$ as amplitude of state $|i\\rangle$"
   ]
  },
  {
   "cell_type": "markdown",
   "metadata": {},
   "source": [
    "1. Initialize system to 0  \n",
    "$$|000\\rangle$$\n",
    "\n",
    "2. Apply Hadamard to generate an equal superposition of all 8 states, the amplitude is $\\frac{1}{\\sqrt{N}} = \\frac{1}{\\sqrt{8}}=\\frac{1}{2\\sqrt{2}}$\n",
    "\n",
    "$\\begin{equation}\n",
    "H^3|000\\rangle=\\frac{1}{2\\sqrt{2}}|000\\rangle+\\frac{1}{2\\sqrt{2}}|001\\rangle+...+\\frac{1}{2\\sqrt{2}}|111\\rangle=\\frac{1}{2\\sqrt{2}}\\sum_{x=0}^{7}|x\\rangle=|\\psi\\rangle\n",
    "\\tag{3.2.1}\n",
    "\\end{equation}$\n"
   ]
  },
  {
   "attachments": {},
   "cell_type": "markdown",
   "metadata": {},
   "source": [
    "A geometrical interpretation of the amplitudes is useful for visualization. The amplitudes are real througout the algorithm, so we show them as lines perpendicular to an axis. The length of the lines is proportional to the value of the amplitude.\n",
    "\n",
    "![GR_amplitudes_step2.png](images/GR_amplitudes_step2.png)\n"
   ]
  },
  {
   "cell_type": "markdown",
   "metadata": {},
   "source": [
    "The optimal number of iterations can be determined by $\\frac{\\pi}{4}\\sqrt{8}\\approx 2.22$, which rounds to 2 iterations."
   ]
  },
  {
   "attachments": {},
   "cell_type": "markdown",
   "metadata": {},
   "source": [
    "In each iteration first the oracle $\\mathcal{O}$ is applied to negate the amplitude of state $|x_0\\rangle$, then perform the inversion about the average (diffusion transform).\n",
    "3. Apply oracle $\\mathcal{O}$\n",
    "$$|x\\rangle=\\frac{1}{2\\sqrt{2}}|000\\rangle+\\frac{1}{2\\sqrt{2}}|001\\rangle+\\frac{1}{2\\sqrt{2}}|010\\rangle-\\frac{1}{2\\sqrt{2}}|011\\rangle+...+\\frac{1}{2\\sqrt{2}}|111\\rangle$$\n",
    "![GR_amplitudes_step3.png](images/GR_amplitudes_step3.png)\n"
   ]
  },
  {
   "cell_type": "markdown",
   "metadata": {},
   "source": [
    "4. Perform the diffusion transformation $2|\\psi\\rangle\\langle\\psi|-I$, which will increase / decrease the amplitudes by their difference from the average (decrease if difference is negative):\n",
    "\n",
    "$\\begin{align*}\n",
    "&[2|\\psi\\rangle\\langle\\psi|-I]|x\\rangle \\\\\n",
    "=&[2|\\psi\\rangle\\langle\\psi|-I]\\left[|\\psi\\rangle - \\frac{2}{2\\sqrt{2}}|011\\rangle\\right] \\\\=&2|\\psi\\rangle\\langle\\psi|\\psi\\rangle-|\\psi\\rangle - \\frac{2}{\\sqrt{2}}|\\psi\\rangle\\langle\\psi|011\\rangle + \\frac{1}{\\sqrt{2}}|011\\rangle\n",
    "\\end{align*}$ <br>\n",
    "> Note that $\\langle\\psi|\\psi\\rangle = 8\\frac{1}{2\\sqrt{2}}\\left[\\frac{1}{2\\sqrt{2}}\\right]=1$.<br>\n",
    "Additionally, since $|011\\rangle$ is a base vector: $\\langle\\psi|011\\rangle=\\langle011|\\psi\\rangle=\\frac{1}{2\\sqrt{2}}$:<br>\n",
    "\n",
    "$\\begin{align*}\n",
    "=&2|\\psi\\rangle - |\\psi\\rangle - \\frac{2}{\\sqrt{2}}\\left(\\frac{1}{2\\sqrt{2}}\\right)|\\psi\\rangle + \\frac{1}{\\sqrt{2}}|011\\rangle \\\\\n",
    "=&|\\psi\\rangle - \\frac{1}{2}|\\psi\\rangle + \\frac{1}{\\sqrt{2}}|011\\rangle \\\\\n",
    "=&\\frac{1}{2}|\\psi\\rangle + \\frac{1}{\\sqrt{2}}|011\\rangle\n",
    "\\end{align*}$\n"
   ]
  },
  {
   "cell_type": "markdown",
   "metadata": {},
   "source": [
    "Substituting $|\\psi\\rangle$ from (3.2.1) gives:  \n",
    "$\\begin{align*}\n",
    "=&\\frac{1}{2}\\left[\\frac{1}{2\\sqrt{2}}\\sum_{x=0}^{7}|x\\rangle\\right] + \\frac{1}{\\sqrt{2}}|011\\rangle \\\\\n",
    "=&\\frac{1}{4\\sqrt{2}}\\sum_{x=0\\\\x\\neq3}^{7}|x\\rangle + \\frac{1}{4\\sqrt{2}}|011\\rangle + \\frac{1}{\\sqrt{2}}|011\\rangle \\\\\n",
    "=&\\frac{1}{4\\sqrt{2}}\\sum_{x=0\\\\x\\neq3}^{7}|x\\rangle + \\frac{5}{4\\sqrt{2}}|011\\rangle\n",
    "\\end{align*}$"
   ]
  },
  {
   "attachments": {},
   "cell_type": "markdown",
   "metadata": {},
   "source": [
    "In the notation used earlier: $$|x\\rangle=\\frac{1}{4\\sqrt{2}}|000\\rangle+\\frac{1}{4\\sqrt{2}}|001\\rangle+\\frac{1}{4\\sqrt{2}}|010\\rangle+\\frac{5}{4\\sqrt{2}}|011\\rangle+...+\\frac{1}{4\\sqrt{2}}|111\\rangle$$ which appears geometrically as   \n",
    "![GR_amplitudes_step4.png](images/GR_amplitudes_step4.png)  \n",
    "This completes the first iteration."
   ]
  },
  {
   "cell_type": "markdown",
   "metadata": {},
   "source": [
    "5. Apply the same two transformations again (second iteration), giving:  \n",
    "   1. Apply Oracle $\\mathcal{O}$  \n",
    "$\\begin{align*}\n",
    "|x\\rangle=&\\frac{1}{4\\sqrt{2}}|000\\rangle+\\frac{1}{4\\sqrt{2}}|001\\rangle+\\frac{1}{4\\sqrt{2}}|010\\rangle-\\frac{5}{4\\sqrt{2}}|011\\rangle+...+\\frac{1}{4\\sqrt{2}}|111\\rangle \\\\\n",
    "=&\\frac{1}{4\\sqrt{2}}\\sum_{x=0\\\\x\\neq3}^{7}|x\\rangle-\\frac{5}{4\\sqrt{2}}|011\\rangle \\\\\n",
    "=&\\frac{1}{4\\sqrt{2}}\\sum_{x=0}^{7}|x\\rangle-\\frac{6}{4\\sqrt{2}}|011\\rangle \\\\\n",
    "=&\\frac{1}{2}|\\psi\\rangle -\\frac{3}{2\\sqrt{2}}|011\\rangle\n",
    "\\end{align*}$  \n",
    "   1. Apply difusion transformation  \n",
    "$\\begin{align*}\n",
    "&[2|\\psi\\rangle\\langle\\psi|-I]\\left[\\frac{1}{2}|\\psi\\rangle -\\frac{3}{2\\sqrt{2}}|011\\rangle\\right] \\\\\n",
    "=&2(\\frac{1}{2})|\\psi\\rangle\\langle\\psi|\\psi\\rangle -\\frac{1}{2}|\\psi\\rangle - 2\\frac{3}{2\\sqrt{2}}|\\psi\\rangle\\langle\\psi|011\\rangle + \\frac{3}{2\\sqrt{2}}|011\\rangle \\\\\n",
    "=&|\\psi\\rangle -\\frac{1}{2}|\\psi\\rangle - \\frac{3}{\\sqrt{2}}(\\frac{1}{2\\sqrt{2}})|\\psi\\rangle + \\frac{3}{2\\sqrt{2}}|011\\rangle \\\\ \n",
    "=&-\\frac{1}{4}|\\psi\\rangle +\\frac{3}{2\\sqrt{2}}|011\\rangle \\\\\n",
    "=&-\\frac{1}{4}\\left[ \\frac{1}{2\\sqrt{2}}\\sum_{x=0}^{7}|x\\rangle \\right] +\\frac{3}{2\\sqrt{2}}|011\\rangle \\,\\,\\,\\text{(from (3.2.1))} \\\\ \n",
    "=&-\\frac{1}{4}\\left[ \\frac{1}{2\\sqrt{2}}\\sum_{x=0\\\\x\\neq3}^{7}|x\\rangle + \\frac{1}{2\\sqrt{2}}|011\\rangle\\right] + \\frac{3}{2\\sqrt{2}}|011\\rangle \\\\\n",
    "=&-\\frac{1}{8\\sqrt{2}}\\sum_{x=0\\\\x\\neq3}^{7}|x\\rangle + \\frac{11}{8\\sqrt{2}}|011\\rangle \\\\\n",
    "\\end{align*}$"
   ]
  },
  {
   "attachments": {},
   "cell_type": "markdown",
   "metadata": {},
   "source": [
    "In the expanded notation: $$|x\\rangle=-\\frac{1}{8\\sqrt{2}}|000\\rangle-\\frac{1}{8\\sqrt{2}}|001\\rangle-\\frac{1}{8\\sqrt{2}}|010\\rangle+\\frac{11}{8\\sqrt{2}}|011\\rangle-...-\\frac{1}{8\\sqrt{2}}|111\\rangle$$ which appears geometrically as  \n",
    "![GR_amplitudes_step5.png](images/GR_amplitudes_step5.png)  \n",
    "\n",
    "This completes the second iteration, the success geometrically is clear.  \n",
    "Now when the system is observed, the probability that the state representative of the correct solution, $|011\\rangle$, will be measured is $|\\frac{11}{8\\sqrt{2}}|^2 = 121/128 ≈ 94.5\\%$.\n",
    "The probability of finding an incorrect state is $7|-\\frac{1}{8\\sqrt{2}}|^2 = 7/128 ≈ 5.5\\%$; Grover’s algorithm is more than 17 times more likely to give the correct answer than an incorrect one with an input size of N=8, and the error only decreases as the input size increases.  Although Grover’s algorithm is probabilistic, the error truly becomes negligible as N grows large."
   ]
  },
  {
   "cell_type": "code",
   "execution_count": null,
   "metadata": {},
   "outputs": [],
   "source": []
  }
 ],
 "metadata": {
  "kernelspec": {
   "display_name": "Python 3",
   "language": "python",
   "name": "python3"
  },
  "language_info": {
   "codemirror_mode": {
    "name": "ipython",
    "version": 3
   },
   "file_extension": ".py",
   "mimetype": "text/x-python",
   "name": "python",
   "nbconvert_exporter": "python",
   "pygments_lexer": "ipython3",
   "version": "3.8.5"
  }
 },
 "nbformat": 4,
 "nbformat_minor": 4
}